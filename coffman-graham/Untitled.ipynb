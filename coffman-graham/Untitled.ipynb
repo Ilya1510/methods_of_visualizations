{
 "cells": [
  {
   "cell_type": "code",
   "execution_count": 1,
   "metadata": {},
   "outputs": [],
   "source": [
    "import numpy as np\n",
    "import pandas as pd\n",
    "from matplotlib import pyplot as plt\n",
    "import networkx as nx\n",
    "\n",
    "%matplotlib inline\n",
    "%config InlineBackend.figure_format = 'retina'"
   ]
  },
  {
   "cell_type": "code",
   "execution_count": 2,
   "metadata": {},
   "outputs": [
    {
     "name": "stdout",
     "output_type": "stream",
     "text": [
      "[('n0', 'n1'), ('n0', 'n2'), ('n1', 'n3'), ('n1', 'n4'), ('n2', 'n5'), ('n2', 'n6'), ('n3', 'n7'), ('n4', 'n8'), ('n5', 'n9'), ('n5', 'n10'), ('n6', 'n11'), ('n8', 'n12'), ('n8', 'n13'), ('n11', 'n14'), ('n11', 'n15'), ('n12', 'n16'), ('n12', 'n17')]\n",
      "['n0', 'n1', 'n2', 'n3', 'n4', 'n5', 'n6', 'n7', 'n8', 'n9', 'n10', 'n11', 'n12', 'n13', 'n14', 'n15', 'n16', 'n17']\n",
      "['n1', 'n2'] ['n3', 'n4']\n"
     ]
    }
   ],
   "source": [
    "graph = nx.read_graphml('graph.xml')\n",
    "print(graph.edges())\n",
    "print(graph.nodes())\n",
    "print(list(graph.neighbors('n0')), list(graph.neighbors('n1')))"
   ]
  },
  {
   "cell_type": "code",
   "execution_count": null,
   "metadata": {},
   "outputs": [],
   "source": []
  }
 ],
 "metadata": {
  "kernelspec": {
   "display_name": "Python 3",
   "language": "python",
   "name": "python3"
  },
  "language_info": {
   "codemirror_mode": {
    "name": "ipython",
    "version": 3
   },
   "file_extension": ".py",
   "mimetype": "text/x-python",
   "name": "python",
   "nbconvert_exporter": "python",
   "pygments_lexer": "ipython3",
   "version": "3.7.4"
  }
 },
 "nbformat": 4,
 "nbformat_minor": 2
}
